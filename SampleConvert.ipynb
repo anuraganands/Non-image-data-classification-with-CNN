{
 "cells": [
  {
   "cell_type": "code",
   "execution_count": 69,
   "id": "environmental-investor",
   "metadata": {},
   "outputs": [],
   "source": [
    "import numpy as np\n",
    "import pandas as pd"
   ]
  },
  {
   "cell_type": "code",
   "execution_count": 53,
   "id": "incoming-lesson",
   "metadata": {},
   "outputs": [],
   "source": [
    "data = pd.read_csv(\"Data/BreastCancerDiagnostic.csv\", header=None)"
   ]
  },
  {
   "cell_type": "code",
   "execution_count": 54,
   "id": "banner-vegetation",
   "metadata": {},
   "outputs": [
    {
     "name": "stdout",
     "output_type": "stream",
     "text": [
      "(569, 1)\n"
     ]
    }
   ],
   "source": [
    "Y = data.iloc[:,-1:]\n",
    "print(Y.shape)"
   ]
  },
  {
   "cell_type": "code",
   "execution_count": 55,
   "id": "roman-bench",
   "metadata": {},
   "outputs": [],
   "source": [
    "data = data.iloc[:, :-1] # The last column is dependent variable"
   ]
  },
  {
   "cell_type": "code",
   "execution_count": 56,
   "id": "corrected-infection",
   "metadata": {},
   "outputs": [],
   "source": [
    "assert(data[0][0]) == 842302\n",
    "assert(data[0][1]) == 842517\n",
    "assert(data.shape == (569, 31))"
   ]
  },
  {
   "cell_type": "code",
   "execution_count": 57,
   "id": "forty-documentation",
   "metadata": {},
   "outputs": [],
   "source": [
    "#\n",
    "# Proper conversion require normalization such as:\n",
    "#     rawData(:,i) = norm_variance(rawData(:,i));\n",
    "#    rawData(:,i) = norm_scale01(rawData(:,i));\n",
    "#\n",
    "# We will skip here.\n",
    "#"
   ]
  },
  {
   "cell_type": "code",
   "execution_count": 58,
   "id": "qualified-peripheral",
   "metadata": {},
   "outputs": [
    {
     "data": {
      "text/plain": [
       "(569, 31)"
      ]
     },
     "execution_count": 58,
     "metadata": {},
     "output_type": "execute_result"
    }
   ],
   "source": [
    "data.shape"
   ]
  },
  {
   "cell_type": "code",
   "execution_count": 59,
   "id": "everyday-mechanics",
   "metadata": {},
   "outputs": [],
   "source": [
    "N = 569\n",
    "d = 31\n",
    "X = data.transpose()\n",
    "Y = Y.transpose()\n",
    "assert(X.shape == (31,569))\n",
    "assert(Y.shape == (1,569))"
   ]
  },
  {
   "cell_type": "code",
   "execution_count": 60,
   "id": "iraqi-swiss",
   "metadata": {},
   "outputs": [
    {
     "data": {
      "text/plain": [
       "(1, 569)"
      ]
     },
     "execution_count": 60,
     "metadata": {},
     "output_type": "execute_result"
    }
   ],
   "source": [
    "Y.shape"
   ]
  },
  {
   "cell_type": "code",
   "execution_count": 61,
   "id": "appropriate-passage",
   "metadata": {},
   "outputs": [],
   "source": [
    "px = 1  # pixcel or column width.\n",
    "gap = 0 #gap between two columns\n",
    "imgSz = (px*d+gap*(d+1), px*d+gap*(d+1))\n",
    "assert(imgSz == (31,31))"
   ]
  },
  {
   "cell_type": "code",
   "execution_count": 62,
   "id": "anonymous-conjunction",
   "metadata": {},
   "outputs": [],
   "source": [
    "maxBarHeight = imgSz[0] - 2*px;"
   ]
  },
  {
   "cell_type": "code",
   "execution_count": 66,
   "id": "sharing-surname",
   "metadata": {},
   "outputs": [],
   "source": [
    "imgageGPU = np.zeros((imgSz[0], imgSz[1], N))\n",
    "assert(imgageGPU.shape == (31, 31, 569))"
   ]
  },
  {
   "cell_type": "code",
   "execution_count": 90,
   "id": "sealed-federal",
   "metadata": {},
   "outputs": [],
   "source": [
    "for i in range(N):\n",
    "    barI = np.floor(maxBarHeight * X[i]).astype(int)\n",
    "    k = 1    \n",
    "    j = gap + 1    \n",
    "    # upside down images will be created\n",
    "    while j < imgSz[1]-gap:\n",
    "        j = j + gap + px\n",
    "        imgageGPU[px:barI[k],j:j+px-1,i] = 1\n",
    "        k = k+1\n",
    "        if k>d:\n",
    "            break\n",
    "        # Each slide in imgageGPU is now an image!"
   ]
  },
  {
   "cell_type": "code",
   "execution_count": 91,
   "id": "major-advertiser",
   "metadata": {},
   "outputs": [],
   "source": [
    "eImg = np.zeros((d,d))"
   ]
  },
  {
   "cell_type": "code",
   "execution_count": 97,
   "id": "sophisticated-given",
   "metadata": {},
   "outputs": [],
   "source": [
    "for i in range(N):\n",
    "    in_ = X[i]\n",
    "    M = np.zeros((d,d))\n",
    "    for r in range(d):\n",
    "        for c in range(d):\n",
    "            M[r,c] = in_[r] - in_[c]"
   ]
  },
  {
   "cell_type": "code",
   "execution_count": null,
   "id": "cloudy-fourth",
   "metadata": {},
   "outputs": [],
   "source": [
    "# imgI=norm_scale01(M); too..."
   ]
  }
 ],
 "metadata": {
  "kernelspec": {
   "display_name": "Python 3",
   "language": "python",
   "name": "python3"
  },
  "language_info": {
   "codemirror_mode": {
    "name": "ipython",
    "version": 3
   },
   "file_extension": ".py",
   "mimetype": "text/x-python",
   "name": "python",
   "nbconvert_exporter": "python",
   "pygments_lexer": "ipython3",
   "version": "3.9.2"
  }
 },
 "nbformat": 4,
 "nbformat_minor": 5
}
